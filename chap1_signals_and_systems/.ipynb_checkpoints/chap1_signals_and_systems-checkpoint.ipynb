{
 "metadata": {
  "name": "",
  "signature": "sha256:4120eeff12cbbc083bd002100a3cf0d3b53051d9677839499581a4624a57396b"
 },
 "nbformat": 3,
 "nbformat_minor": 0,
 "worksheets": [
  {
   "cells": [
    {
     "cell_type": "markdown",
     "metadata": {},
     "source": [
      "Introduction to Signal Processing\n",
      "=====\n",
      "\n",
      "#####Version 0.1"
     ]
    },
    {
     "cell_type": "markdown",
     "metadata": {},
     "source": [
      "Chapter 1: Signals and Systems\n",
      "======\n",
      "***"
     ]
    },
    {
     "cell_type": "markdown",
     "metadata": {},
     "source": [
      "Before we jump into to core contents of the course, we need to define some terminology that we will use for the rest of the course.\n",
      "\n",
      "### What are Signals?\n",
      "A _signal_ is defined as any physical quantity that varies with one or more independent variables, such a time, space etc. Mathematically, a signal can be represented a function of independent variable(s). For example,\n",
      "\n",
      "$$s\\left(t\\right) = 5t$$\n",
      "\n",
      "$$s\\left(t\\right) = 1.23t^2 - 5.11t +41.5$$\n",
      "\n",
      "Where, $t$ is time. These two are examples of signals 1-dimensional (1D) signals - functions of a single independent variable. An image file is an 2D signals that is a function of two independent spatial coordiates $x$ and $y$.\n",
      "\n",
      "$$s\\left(x,y\\right) = x^2 + y^2 + 2xy$$\n",
      "\n",
      "The mathematical representation of signals will not be possible for all types of signals. For example, many of the physiological signals cannot be represented mathematically, either because the exact function is not known or is too complicated."
     ]
    },
    {
     "cell_type": "code",
     "collapsed": false,
     "input": [
      "# Initialization code to load the required moduels\n",
      "%pylab inline\n",
      "import seaborn"
     ],
     "language": "python",
     "metadata": {},
     "outputs": [
      {
       "output_type": "stream",
       "stream": "stdout",
       "text": [
        "Populating the interactive namespace from numpy and matplotlib\n"
       ]
      }
     ],
     "prompt_number": 1
    },
    {
     "cell_type": "code",
     "collapsed": false,
     "input": [
      "t = np.arange(-10, 10, 0.01)\n",
      "s1 = 5 * t\n",
      "s2 = 1.23 * (t ** 2) - 5.11 * t + 41.5\n",
      "\n",
      "figure(figsize=(15,5))\n",
      "ax = subplot2grid((1,2), (0,0), rowspan=1, colspan=1)\n",
      "l1, = plot(t, s1, label=\"$5t$\")\n",
      "xlabel('Time', fontsize=15)\n",
      "#title(\"Fig.1 (a) Plot of $5t$.\", fontsize=20)\n",
      "legend(prop={'size':20})\n",
      "\n",
      "ax = subplot2grid((1,2), (0,1), rowspan=1, colspan=1)\n",
      "l2, = plot(t, s2, label=\"$1.23t^2 - 5.11t + 41.5$\")\n",
      "#title(\"Fig.1 (b) Plot of $1.23t^2 - 5.11t + 41.5$.\", fontsize=20)\n",
      "xlabel('Time', fontsize=15)\n",
      "legend(prop={'size':20});"
     ],
     "language": "python",
     "metadata": {},
     "outputs": [
      {
       "metadata": {},
       "output_type": "display_data",
       "png": "[encoded data removed]",
       "text": [
        "<matplotlib.figure.Figure at 0x7f210564b2d0>"
       ]
      }
     ],
     "prompt_number": 4
    },
    {
     "cell_type": "code",
     "collapsed": false,
     "input": [
      "from IPython.core.display import HTML\n",
      "def css_styling():\n",
      "    styles = open(\"../styles/custom.css\", \"r\").read()\n",
      "    return HTML(styles)\n",
      "css_styling()"
     ],
     "language": "python",
     "metadata": {},
     "outputs": [
      {
       "html": [
        "<style>\n",
        "    @font-face {\n",
        "        font-family: \"Computer Modern\";\n",
        "        src: url('http://mirrors.ctan.org/fonts/cm-unicode/fonts/otf/cmunss.otf');\n",
        "    }\n",
        "    div.cell{\n",
        "        width:800px;\n",
        "        margin-left:16% !important;\n",
        "        margin-right:auto;\n",
        "    }\n",
        "    h1 {        \n",
        "        font-family: Courier, Helvetica, serif;\n",
        "    }\n",
        "    h4{\n",
        "        font-family: Courier, Helvetica, serif;\n",
        "        margin-top:12px;\n",
        "        margin-bottom: 3px;\n",
        "       }\n",
        "    div.text_cell_render{\n",
        "        font-family: Courier, Computer Modern, \"Helvetica Neue\", Arial, Helvetica, Geneva, sans-serif;\n",
        "        line-height: 120%;\n",
        "        font-size: 120%;\n",
        "        width:800px;\n",
        "        margin-left:auto;\n",
        "        margin-right:auto;\n",
        "    }\n",
        "    .CodeMirror{\n",
        "            font-family: \"Source Code Pro\", source-code-pro,Consolas, monospace;\n",
        "    }\n",
        "    .prompt{\n",
        "        display: None;\n",
        "    }\n",
        "    .text_cell_render h5 {\n",
        "        font-weight: 300;\n",
        "        font-size: 16pt;\n",
        "        color: #4057A1;\n",
        "        font-style: italic;\n",
        "        margin-bottom: .5em;\n",
        "        margin-top: 0.5em;\n",
        "        display: block;\n",
        "    }\n",
        "    \n",
        "    .warning{\n",
        "        color: rgb( 240, 20, 20 )\n",
        "        }  \n",
        "</style>\n",
        "<script>\n",
        "    MathJax.Hub.Config({\n",
        "                        TeX: {\n",
        "                           extensions: [\"AMSmath.js\"]\n",
        "                           },\n",
        "                tex2jax: {\n",
        "                    inlineMath: [ ['$','$'], [\"\\\\(\",\"\\\\)\"] ],\n",
        "                    displayMath: [ ['$$','$$'], [\"\\\\[\",\"\\\\]\"] ]\n",
        "                },\n",
        "                displayAlign: 'center', // Change this to 'center' to center equations.\n",
        "                \"HTML-CSS\": {\n",
        "                    styles: {'.MathJax_Display': {\"margin\": 4}}\n",
        "                }\n",
        "        });\n",
        "</script>"
       ],
       "metadata": {},
       "output_type": "pyout",
       "prompt_number": 3,
       "text": [
        "<IPython.core.display.HTML at 0x7f21055de450>"
       ]
      }
     ],
     "prompt_number": 3
    },
    {
     "cell_type": "code",
     "collapsed": false,
     "input": [],
     "language": "python",
     "metadata": {},
     "outputs": []
    }
   ],
   "metadata": {}
  }
 ]
}